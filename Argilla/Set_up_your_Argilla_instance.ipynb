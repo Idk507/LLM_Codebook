{
  "cells": [
    {
      "cell_type": "markdown",
      "metadata": {
        "id": "f5XI_EEfCH1Y"
      },
      "source": [
        "# Set up your Argilla instance"
      ]
    },
    {
      "cell_type": "code",
      "execution_count": null,
      "metadata": {
        "id": "2lCwn9rCCH1a"
      },
      "outputs": [],
      "source": [
        "!pip install argilla"
      ]
    },
    {
      "cell_type": "code",
      "execution_count": null,
      "metadata": {
        "id": "FzLl1rvxCH1c"
      },
      "outputs": [],
      "source": [
        "import argilla as rg\n",
        "\n",
        "HF_TOKEN = \"...\"  # only for private spaces\n",
        "\n",
        "client = rg.Argilla(\n",
        "    api_url=\"...\",\n",
        "    api_key=\"...\",\n",
        "    headers={\"Authorization\": f\"Bearer {HF_TOKEN}\"},  # only for private spaces\n",
        ")"
      ]
    },
    {
      "cell_type": "code",
      "execution_count": null,
      "metadata": {
        "id": "4bVtHBO1CH1e"
      },
      "outputs": [],
      "source": [
        "client.me"
      ]
    }
  ],
  "metadata": {
    "colab": {
      "name": "Set up your Argilla instance",
      "provenance": []
    },
    "language_info": {
      "name": "python"
    }
  },
  "nbformat": 4,
  "nbformat_minor": 0
}